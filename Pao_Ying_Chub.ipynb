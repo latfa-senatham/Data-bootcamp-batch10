{
  "nbformat": 4,
  "nbformat_minor": 0,
  "metadata": {
    "colab": {
      "provenance": [],
      "authorship_tag": "ABX9TyNl+I1ADDi3AxRdS1XccKFY",
      "include_colab_link": true
    },
    "kernelspec": {
      "name": "python3",
      "display_name": "Python 3"
    },
    "language_info": {
      "name": "python"
    }
  },
  "cells": [
    {
      "cell_type": "markdown",
      "metadata": {
        "id": "view-in-github",
        "colab_type": "text"
      },
      "source": [
        "<a href=\"https://colab.research.google.com/github/latfa-senatham/Data-bootcamp-batch10/blob/main/Pao_Ying_Chub.ipynb\" target=\"_parent\"><img src=\"https://colab.research.google.com/assets/colab-badge.svg\" alt=\"Open In Colab\"/></a>"
      ]
    },
    {
      "cell_type": "markdown",
      "source": [
        "# **Pao Ying Chub Game**"
      ],
      "metadata": {
        "id": "_LlhyHCHpwLU"
      }
    },
    {
      "cell_type": "code",
      "source": [
        "from random import choice\n",
        "\n",
        "def pao_ying_chub():\n",
        "\n",
        "    print(\"Let's play game!\")\n",
        "\n",
        "    user_scores = 0\n",
        "    a_scores = 0\n",
        "\n",
        "    while True:\n",
        "        hands = [\"hammer\", \"scissor\", \"paper\"]\n",
        "\n",
        "        print(\"------------------------------------\")\n",
        "        print(\"Please choose your hand: [hammer, scissor, paper, or stop]\")\n",
        "\n",
        "        a_hand = choice(hands)\n",
        "        user_hand = input(\"Your hand: \")\n",
        "\n",
        "        print(a_hand, user_hand)\n",
        "\n",
        "        if a_hand == user_hand:\n",
        "            print(\"Draw\")\n",
        "\n",
        "        elif user_hand == \"hammer\":\n",
        "            if a_hand == \"scissor\":\n",
        "                user_scores = user_scores + 1\n",
        "                print(\"You Win!\")\n",
        "\n",
        "            else:\n",
        "                a_scores = a_scores + 1\n",
        "                print(\"You Lost!\")\n",
        "\n",
        "        elif user_hand == \"scissor\":\n",
        "            if a_hand == \"paper\":\n",
        "                user_scores = user_scores + 1\n",
        "                print(\"You Win!\")\n",
        "\n",
        "            else:\n",
        "                a_scores = a_scores + 1\n",
        "                print(\"You Lost!\")\n",
        "\n",
        "        elif user_hand == \"paper\":\n",
        "            if a_hand == \"hammer\":\n",
        "                user_scores = user_scores + 1\n",
        "                print(\"You Win!\")\n",
        "\n",
        "            else:\n",
        "                a_scores = a_scores + 1\n",
        "                print(\"You Lost!\")\n",
        "\n",
        "        elif user_hand == \"stop\":\n",
        "            print(\"------------------------------------\")\n",
        "            print(f\"Your scores: {user_scores}, Bot scores: {a_scores}\")\n",
        "            if user_scores > a_scores:\n",
        "                print(\"You are the Winner!!\")\n",
        "            elif user_scores < a_scores:\n",
        "                print(\"You are the Loser!\")\n",
        "            else:\n",
        "                print(\"Draw\")\n",
        "            break\n",
        "        else:\n",
        "            print(\"Invalid, please try again\")\n"
      ],
      "metadata": {
        "id": "I2plGw4Hp-fx"
      },
      "execution_count": 29,
      "outputs": []
    },
    {
      "cell_type": "code",
      "source": [
        "pao_ying_chub()"
      ],
      "metadata": {
        "colab": {
          "base_uri": "https://localhost:8080/"
        },
        "id": "bd55gCs3-mxL",
        "outputId": "b9595f9d-0cc8-4bed-9821-aed3a288d8ee"
      },
      "execution_count": 30,
      "outputs": [
        {
          "output_type": "stream",
          "name": "stdout",
          "text": [
            "Let's play game!\n",
            "------------------------------------\n",
            "Please choose your hand: [hammer, scissor, paper, or stop]\n",
            "Your hand: hammer\n",
            "scissor hammer\n",
            "You Win!\n",
            "------------------------------------\n",
            "Please choose your hand: [hammer, scissor, paper, or stop]\n",
            "Your hand: paper\n",
            "scissor paper\n",
            "You Lost!\n",
            "------------------------------------\n",
            "Please choose your hand: [hammer, scissor, paper, or stop]\n",
            "Your hand: paper\n",
            "hammer paper\n",
            "You Win!\n",
            "------------------------------------\n",
            "Please choose your hand: [hammer, scissor, paper, or stop]\n",
            "Your hand: scissor\n",
            "hammer scissor\n",
            "You Lost!\n",
            "------------------------------------\n",
            "Please choose your hand: [hammer, scissor, paper, or stop]\n",
            "Your hand: scissor\n",
            "paper scissor\n",
            "You Win!\n",
            "------------------------------------\n",
            "Please choose your hand: [hammer, scissor, paper, or stop]\n",
            "Your hand: scissor\n",
            "paper scissor\n",
            "You Win!\n",
            "------------------------------------\n",
            "Please choose your hand: [hammer, scissor, paper, or stop]\n",
            "Your hand: hammer\n",
            "paper hammer\n",
            "You Lost!\n",
            "------------------------------------\n",
            "Please choose your hand: [hammer, scissor, paper, or stop]\n",
            "Your hand: hammer\n",
            "paper hammer\n",
            "You Lost!\n",
            "------------------------------------\n",
            "Please choose your hand: [hammer, scissor, paper, or stop]\n",
            "Your hand: paper\n",
            "scissor paper\n",
            "You Lost!\n",
            "------------------------------------\n",
            "Please choose your hand: [hammer, scissor, paper, or stop]\n",
            "Your hand: stop\n",
            "hammer stop\n",
            "------------------------------------\n",
            "Your scores: 4, Bot scores: 5\n",
            "You are the Loser!\n"
          ]
        }
      ]
    }
  ]
}